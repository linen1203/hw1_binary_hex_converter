{
  "cells": [
    {
      "cell_type": "markdown",
      "metadata": {
        "id": "view-in-github",
        "colab_type": "text"
      },
      "source": [
        "<a href=\"https://colab.research.google.com/github/linen1203/hw1_binary_hex_converter/blob/main/%E6%AD%A1%E8%BF%8E%E4%BD%BF%E7%94%A8_Colab.ipynb\" target=\"_parent\"><img src=\"https://colab.research.google.com/assets/colab-badge.svg\" alt=\"Open In Colab\"/></a>"
      ]
    },
    {
      "cell_type": "code",
      "source": [],
      "metadata": {
        "id": "vE9ZGF1e7VbE"
      },
      "execution_count": null,
      "outputs": []
    },
    {
      "cell_type": "code",
      "source": [
        "def quicksort(arr):\n",
        "    if len(arr) <= 1:\n",
        "        return arr\n",
        "    else:\n",
        "        pivot = arr[0]\n",
        "        less = [x for x in arr[1:] if x <= pivot]\n",
        "        greater = [x for x in arr[1:] if x > pivot]\n",
        "        return quicksort(less) + [pivot] + quicksort(greater)\n",
        "\n",
        "\n",
        "array = [33, 67, 8, 13, 54, 119, 3, 84, 25, 41]\n",
        "\n",
        "\n",
        "sorted_array = quicksort(array)\n",
        "\n",
        "print(\"排序後的結果：\", sorted_array)\n"
      ],
      "metadata": {
        "colab": {
          "base_uri": "https://localhost:8080/"
        },
        "id": "OQkjDpN87Zoz",
        "outputId": "9cf373ad-19bc-473c-cd63-098fce06db7c"
      },
      "execution_count": 1,
      "outputs": [
        {
          "output_type": "stream",
          "name": "stdout",
          "text": [
            "排序後的結果： [3, 8, 13, 25, 33, 41, 54, 67, 84, 119]\n"
          ]
        }
      ]
    }
  ],
  "metadata": {
    "colab": {
      "name": "歡迎使用 Colab",
      "toc_visible": true,
      "provenance": [],
      "include_colab_link": true
    },
    "kernelspec": {
      "display_name": "Python 3",
      "name": "python3"
    }
  },
  "nbformat": 4,
  "nbformat_minor": 0
}